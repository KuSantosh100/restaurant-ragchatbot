{
  "nbformat": 4,
  "nbformat_minor": 0,
  "metadata": {
    "colab": {
      "provenance": []
    },
    "kernelspec": {
      "name": "python3",
      "display_name": "Python 3"
    },
    "language_info": {
      "name": "python"
    }
  },
  "cells": [
    {
      "cell_type": "markdown",
      "source": [
        "# RAG ChatBot for a Reataurant"
      ],
      "metadata": {
        "id": "D-pmB2SWd-jY"
      }
    },
    {
      "cell_type": "markdown",
      "source": [
        "This project does this :\n",
        "\n",
        "1. Answer customer queries about the menu, including dish descriptions, prices, and ingredients.\n",
        "2. Provide information about dietary options (vegetarian, gluten-free, etc.).\n",
        "3. Assist with reservations and opening hours.\n",
        "4. Offer personalized dish recommendations based on customer preferences.\n",
        "5. Handle frequently asked questions about the restaurant's policies and services."
      ],
      "metadata": {
        "id": "jTzdvBxkeUkG"
      }
    },
    {
      "cell_type": "markdown",
      "source": [
        "**Setting up environment**"
      ],
      "metadata": {
        "id": "XF8pOE45ekr2"
      }
    },
    {
      "cell_type": "code",
      "execution_count": 1,
      "metadata": {
        "id": "lDhIQqCTd3k8"
      },
      "outputs": [],
      "source": [
        "# installing packages\n",
        "!pip install -qU langchain-pinecone langchain-text-splitters langchain pinecone-notebooks langchain-community"
      ]
    },
    {
      "cell_type": "markdown",
      "source": [
        "**Setup for environment variables for Pinecone and Hugging Face API keys**"
      ],
      "metadata": {
        "id": "LnTGjb3dfVQP"
      }
    },
    {
      "cell_type": "code",
      "source": [
        "import os\n",
        "\n",
        "from google.colab import userdata\n",
        "os.environ['PINECONE_API_KEY'] = userdata.get('PINECONE_API_KEY')\n",
        "pinecone_api_key = os.environ.get('PINECONE_API_KEY')\n",
        "\n",
        "from google.colab import userdata\n",
        "os.environ['HUGGINGFACEHUB_API_TOKEN'] = userdata.get('HUGGINGFACEHUB_API_TOKEN')\n",
        "hf_api_key = os.environ.get(\"HUGGINGFACEHUB_API_TOKEN\")"
      ],
      "metadata": {
        "id": "62j6Dl4meLKH"
      },
      "execution_count": 2,
      "outputs": []
    },
    {
      "cell_type": "markdown",
      "source": [
        "The document we are using to populate our RAG chatbot application"
      ],
      "metadata": {
        "id": "qUyv1XNDgEMH"
      }
    },
    {
      "cell_type": "code",
      "source": [
        "from langchain_text_splitters import MarkdownHeaderTextSplitter\n",
        "\n",
        "\n",
        "markdown_document = \"\"\"\n",
        "# Bella Vista Italian Restaurant Menu\n",
        "\n",
        "## Appetizers (Antipasti)\n",
        "\n",
        "1. Bruschetta al Pomodoro - $12\n",
        "   Toasted artisanal bread topped with a blend of ripe Roma tomatoes, fresh basil, and extra virgin olive oil. Finished with a drizzle of aged balsamic vinegar.\n",
        "\n",
        "2. Caprese Salad - $14\n",
        "   Slices of creamy buffalo mozzarella layered with vine-ripened tomatoes and fresh basil leaves. Drizzled with extra virgin olive oil and 12-year-aged balsamic glaze.\n",
        "\n",
        "3. Calamari Fritti - $16\n",
        "   Tender rings of calamari lightly dusted in seasoned flour and flash-fried to golden perfection. Served with our house-made spicy marinara sauce and lemon wedges.\n",
        "\n",
        "## Main Courses (Primi Piatti)\n",
        "\n",
        "4. Spaghetti alla Carbonara - $22\n",
        "   Al dente spaghetti tossed in a creamy sauce made with farm-fresh eggs, pecorino Romano cheese, and crispy pancetta. Finished with freshly cracked black pepper and parsley.\n",
        "\n",
        "5. Risotto ai Funghi Porcini - $26\n",
        "   Arborio rice slowly cooked to creamy perfection with premium dried porcini mushrooms, white wine, and Parmigiano-Reggiano. Garnished with fresh thyme and truffle oil.\n",
        "\n",
        "6. Lasagna alla Bolognese - $24\n",
        "   Layers of fresh pasta sheets, rich meat ragù made with ground beef and pork, creamy béchamel sauce, and melted mozzarella. Baked until golden and bubbly.\n",
        "\n",
        "## Second Courses (Secondi Piatti)\n",
        "\n",
        "7. Osso Buco alla Milanese - $32\n",
        "   Slow-braised veal shank in white wine and vegetables, topped with gremolata. Served with saffron risotto and roasted vegetables.\n",
        "\n",
        "8. Branzino al Forno - $30\n",
        "   Whole Mediterranean sea bass stuffed with lemon and herbs, oven-roasted and filleted tableside. Served with roasted potatoes and grilled asparagus.\n",
        "\n",
        "9. Pollo al Marsala - $28\n",
        "   Tender chicken breast sautéed with mushrooms in a rich Marsala wine sauce. Served with creamy polenta and seasonal vegetables.\n",
        "\n",
        "## Desserts (Dolci)\n",
        "\n",
        "10. Tiramisu - $12\n",
        "    Layers of coffee-soaked ladyfingers and creamy mascarpone cheese, dusted with premium cocoa powder. Served with a shot of espresso on the side.\n",
        "\n",
        "11. Panna Cotta - $10\n",
        "    Silky vanilla bean infused cream custard, topped with a mixed berry compote and fresh mint.\n",
        "\n",
        "12. Cannoli Siciliani - $9\n",
        "    Two crispy pastry tubes filled with sweet ricotta cream, chocolate chips, and candied orange peel. Dusted with powdered sugar and served with pistachio gelato.\n",
        "\n",
        "## Beverages (Bevande)\n",
        "\n",
        "13. Espresso - $3.50\n",
        "    Single shot of our premium Italian roast coffee\n",
        "\n",
        "14. Cappuccino - $5\n",
        "    Espresso topped with steamed milk and foam\n",
        "\n",
        "15. Italian Sodas - $4.50\n",
        "    Choice of flavors: Blood Orange, Lemon, or Raspberry\n",
        "\n",
        "16. House Red Wine (glass) - $9 / (bottle) - $36\n",
        "    Montepulciano d'Abruzzo - Medium-bodied with notes of cherry and spice\n",
        "\n",
        "17. House White Wine (glass) - $8 / (bottle) - $32\n",
        "    Pinot Grigio - Crisp and refreshing with hints of pear and citrus\n",
        "\n",
        "Our dishes are prepared with the finest ingredients, including imported Italian products and locally sourced organic produce. Gluten-free and vegetarian options are available upon request. Buon appetito!\n",
        "\"\"\"\n",
        "\n",
        "headers_to_split_on = [\n",
        "    (\"#\", \"Header 1\"),\n",
        "    (\"##\", \"Header 2\")\n",
        "]\n",
        "\n",
        "markdown_splitter = MarkdownHeaderTextSplitter(\n",
        "    headers_to_split_on=headers_to_split_on, strip_headers=False\n",
        ")\n",
        "md_header_splits = markdown_splitter.split_text(markdown_document)\n",
        "\n",
        "print(md_header_splits)"
      ],
      "metadata": {
        "colab": {
          "base_uri": "https://localhost:8080/"
        },
        "id": "EOB_2kI2gRGu",
        "outputId": "eaa04923-4e8e-4173-86d2-e01b1621b6e8"
      },
      "execution_count": 3,
      "outputs": [
        {
          "output_type": "stream",
          "name": "stdout",
          "text": [
            "[Document(metadata={'Header 1': 'Bella Vista Italian Restaurant Menu', 'Header 2': 'Appetizers (Antipasti)'}, page_content='# Bella Vista Italian Restaurant Menu  \\n## Appetizers (Antipasti)  \\n1. Bruschetta al Pomodoro - $12\\nToasted artisanal bread topped with a blend of ripe Roma tomatoes, fresh basil, and extra virgin olive oil. Finished with a drizzle of aged balsamic vinegar.  \\n2. Caprese Salad - $14\\nSlices of creamy buffalo mozzarella layered with vine-ripened tomatoes and fresh basil leaves. Drizzled with extra virgin olive oil and 12-year-aged balsamic glaze.  \\n3. Calamari Fritti - $16\\nTender rings of calamari lightly dusted in seasoned flour and flash-fried to golden perfection. Served with our house-made spicy marinara sauce and lemon wedges.'), Document(metadata={'Header 1': 'Bella Vista Italian Restaurant Menu', 'Header 2': 'Main Courses (Primi Piatti)'}, page_content='## Main Courses (Primi Piatti)  \\n4. Spaghetti alla Carbonara - $22\\nAl dente spaghetti tossed in a creamy sauce made with farm-fresh eggs, pecorino Romano cheese, and crispy pancetta. Finished with freshly cracked black pepper and parsley.  \\n5. Risotto ai Funghi Porcini - $26\\nArborio rice slowly cooked to creamy perfection with premium dried porcini mushrooms, white wine, and Parmigiano-Reggiano. Garnished with fresh thyme and truffle oil.  \\n6. Lasagna alla Bolognese - $24\\nLayers of fresh pasta sheets, rich meat ragù made with ground beef and pork, creamy béchamel sauce, and melted mozzarella. Baked until golden and bubbly.'), Document(metadata={'Header 1': 'Bella Vista Italian Restaurant Menu', 'Header 2': 'Second Courses (Secondi Piatti)'}, page_content='## Second Courses (Secondi Piatti)  \\n7. Osso Buco alla Milanese - $32\\nSlow-braised veal shank in white wine and vegetables, topped with gremolata. Served with saffron risotto and roasted vegetables.  \\n8. Branzino al Forno - $30\\nWhole Mediterranean sea bass stuffed with lemon and herbs, oven-roasted and filleted tableside. Served with roasted potatoes and grilled asparagus.  \\n9. Pollo al Marsala - $28\\nTender chicken breast sautéed with mushrooms in a rich Marsala wine sauce. Served with creamy polenta and seasonal vegetables.'), Document(metadata={'Header 1': 'Bella Vista Italian Restaurant Menu', 'Header 2': 'Desserts (Dolci)'}, page_content='## Desserts (Dolci)  \\n10. Tiramisu - $12\\nLayers of coffee-soaked ladyfingers and creamy mascarpone cheese, dusted with premium cocoa powder. Served with a shot of espresso on the side.  \\n11. Panna Cotta - $10\\nSilky vanilla bean infused cream custard, topped with a mixed berry compote and fresh mint.  \\n12. Cannoli Siciliani - $9\\nTwo crispy pastry tubes filled with sweet ricotta cream, chocolate chips, and candied orange peel. Dusted with powdered sugar and served with pistachio gelato.'), Document(metadata={'Header 1': 'Bella Vista Italian Restaurant Menu', 'Header 2': 'Beverages (Bevande)'}, page_content=\"## Beverages (Bevande)  \\n13. Espresso - $3.50\\nSingle shot of our premium Italian roast coffee  \\n14. Cappuccino - $5\\nEspresso topped with steamed milk and foam  \\n15. Italian Sodas - $4.50\\nChoice of flavors: Blood Orange, Lemon, or Raspberry  \\n16. House Red Wine (glass) - $9 / (bottle) - $36\\nMontepulciano d'Abruzzo - Medium-bodied with notes of cherry and spice  \\n17. House White Wine (glass) - $8 / (bottle) - $32\\nPinot Grigio - Crisp and refreshing with hints of pear and citrus  \\nOur dishes are prepared with the finest ingredients, including imported Italian products and locally sourced organic produce. Gluten-free and vegetarian options are available upon request. Buon appetito!\")]\n"
          ]
        }
      ]
    },
    {
      "cell_type": "markdown",
      "source": [
        "Initialising LangChain embedding object"
      ],
      "metadata": {
        "id": "sdRztfohgopX"
      }
    },
    {
      "cell_type": "code",
      "source": [
        "from langchain_pinecone import PineconeEmbeddings\n",
        "\n",
        "model_name = 'multilingual-e5-large'\n",
        "embeddings = PineconeEmbeddings(\n",
        "    model=model_name,\n",
        "    pinecone_api_key=os.environ.get('PINECONE_API_KEY')\n",
        ")"
      ],
      "metadata": {
        "id": "hkyLOLeFgvRG"
      },
      "execution_count": 4,
      "outputs": []
    },
    {
      "cell_type": "code",
      "source": [
        "from pinecone import Pinecone, ServerlessSpec\n",
        "\n",
        "pc = Pinecone(api_key = pinecone_api_key)\n",
        "\n",
        "# Setup Index specification to define the cloud service to use and region where we want to deploy our index\n",
        "\n",
        "from pinecone import ServerlessSpec\n",
        "\n",
        "cloud = os.environ.get('PINECONE_CLOUD') or 'aws'\n",
        "region = os.environ.get('PINECONE_REGION') or 'us-east-1'\n",
        "\n",
        "spec = ServerlessSpec(cloud=cloud, region=region)\n",
        "\n",
        "# index name :-\n",
        "index_name = \"italian-restaurant\""
      ],
      "metadata": {
        "id": "6PWc4mMAg6ju"
      },
      "execution_count": 5,
      "outputs": []
    },
    {
      "cell_type": "code",
      "source": [
        "import time\n",
        "\n",
        "if index_name not in pc.list_indexes().names():\n",
        "    pc.create_index(\n",
        "        name=index_name,\n",
        "        dimension=embeddings.dimension,\n",
        "        metric=\"cosine\",\n",
        "        spec=spec\n",
        "    )\n",
        "    # wait for index to be ready\n",
        "    while not pc.describe_index(index_name).status['ready']:\n",
        "        time.sleep(1)\n",
        "\n",
        "\n",
        "\n",
        "from langchain_pinecone import PineconeVectorStore\n",
        "\n",
        "namespace = \"italian-restaurant\"\n",
        "\n",
        "docsearch = PineconeVectorStore.from_documents(\n",
        "    documents=md_header_splits,\n",
        "    index_name=index_name,\n",
        "    embedding=embeddings,\n",
        "    namespace=namespace\n",
        ")\n",
        "\n",
        "time.sleep(1)"
      ],
      "metadata": {
        "id": "pI8LKtEPhX32"
      },
      "execution_count": 6,
      "outputs": []
    },
    {
      "cell_type": "code",
      "source": [
        "index = pc.Index(index_name)\n",
        "\n",
        "for ids in index.list(namespace=namespace):\n",
        "    query = index.query(\n",
        "        id=ids[2],\n",
        "        namespace=namespace,\n",
        "        top_k=1,\n",
        "        include_values=False,\n",
        "        include_metadata=True\n",
        "    )\n",
        "    print(query)"
      ],
      "metadata": {
        "id": "8bfnQrW1hg2G"
      },
      "execution_count": 7,
      "outputs": []
    },
    {
      "cell_type": "markdown",
      "source": [
        "Feed the Chat Bot using hugging face LLM model\n",
        "\n",
        "\n",
        "model using here : falcon-7b-instruct ( temp = 0.7 )"
      ],
      "metadata": {
        "id": "0YyzoDwyhjK2"
      }
    },
    {
      "cell_type": "code",
      "source": [
        "from langchain.llms import HuggingFaceHub\n",
        "from transformers import pipeline\n",
        "import os\n",
        "from langchain.chains import RetrievalQA\n",
        "\n",
        "\n",
        "# Initialize the Hugging Face Hub model\n",
        "llm = HuggingFaceHub(\n",
        "    #repo_id=\"tiiuae/falcon-7b-instruct\",  # Replace with any model you prefer, e.g., \"EleutherAI/gpt-neo-2.7B\"\n",
        "    repo_id = \"meta-llama/Llama-3.2-1B-Instruct\",\n",
        "    model_kwargs={\"temperature\": 0.7},  # Adjust temperature as needed\n",
        "    huggingfacehub_api_token=hf_api_key,\n",
        ")\n",
        "\n",
        "\n",
        "qa = RetrievalQA.from_chain_type(\n",
        "    llm=llm,\n",
        "    chain_type=\"stuff\",\n",
        "    retriever=docsearch.as_retriever()\n",
        ")\n",
        ""
      ],
      "metadata": {
        "colab": {
          "base_uri": "https://localhost:8080/"
        },
        "id": "vQvGCD6BhsUP",
        "outputId": "23d015ac-13f9-49f6-fabf-1759a4e973a1"
      },
      "execution_count": 8,
      "outputs": [
        {
          "output_type": "stream",
          "name": "stderr",
          "text": [
            "<ipython-input-8-99771aa3d26c>:8: LangChainDeprecationWarning: The class `HuggingFaceHub` was deprecated in LangChain 0.0.21 and will be removed in 1.0. An updated version of the class exists in the :class:`~langchain-huggingface package and should be used instead. To use it run `pip install -U :class:`~langchain-huggingface` and import as `from :class:`~langchain_huggingface import HuggingFaceEndpoint``.\n",
            "  llm = HuggingFaceHub(\n"
          ]
        }
      ]
    },
    {
      "cell_type": "markdown",
      "source": [
        "Write some of the queries to test out the llm training or feeding"
      ],
      "metadata": {
        "id": "8y6D68Yph-xf"
      }
    },
    {
      "cell_type": "code",
      "source": [
        "query1 = \"What are the appetizer options available at Bella Vista Italian Restaurant?\"\n",
        "\n",
        "query2 = \"What vegetarian main course options are available, and can you describe one in detail without missing its price?\"\n",
        "\n",
        "query3 = \"I want to eat pasta, give me the major ingredients used in the pasta along with it's price?\""
      ],
      "metadata": {
        "id": "tq3Fha3aiEfO"
      },
      "execution_count": 9,
      "outputs": []
    },
    {
      "cell_type": "code",
      "source": [
        "all_queries = [query1, query2, query3]\n",
        "\n",
        "for query in all_queries:\n",
        "    query_with_knowledge = qa.invoke(query)\n",
        "    query_without_knowledge = llm.invoke(query)\n",
        "    print(query_with_knowledge)\n",
        "    print()\n",
        "    print(query_without_knowledge)\n",
        "    print()"
      ],
      "metadata": {
        "colab": {
          "base_uri": "https://localhost:8080/"
        },
        "id": "ieJS9Ju4ix7R",
        "outputId": "a807d73c-aa6a-4bcd-9a6e-75dbc9ecfe5b"
      },
      "execution_count": 10,
      "outputs": [
        {
          "output_type": "stream",
          "name": "stdout",
          "text": [
            "{'query': 'What are the appetizer options available at Bella Vista Italian Restaurant?', 'result': \"Use the following pieces of context to answer the question at the end. If you don't know the answer, just say that you don't know, don't try to make up an answer.\\n\\n# Bella Vista Italian Restaurant Menu  \\n## Appetizers (Antipasti)  \\n1. Bruschetta al Pomodoro - $12\\nToasted artisanal bread topped with a blend of ripe Roma tomatoes, fresh basil, and extra virgin olive oil. Finished with a drizzle of aged balsamic vinegar.  \\n2. Caprese Salad - $14\\nSlices of creamy buffalo mozzarella layered with vine-ripened tomatoes and fresh basil leaves. Drizzled with extra virgin olive oil and 12-year-aged balsamic glaze.  \\n3. Calamari Fritti - $16\\nTender rings of calamari lightly dusted in seasoned flour and flash-fried to golden perfection. Served with our house-made spicy marinara sauce and lemon wedges.\\n\\n## Beverages (Bevande)  \\n13. Espresso - $3.50\\nSingle shot of our premium Italian roast coffee  \\n14. Cappuccino - $5\\nEspresso topped with steamed milk and foam  \\n15. Italian Sodas - $4.50\\nChoice of flavors: Blood Orange, Lemon, or Raspberry  \\n16. House Red Wine (glass) - $9 / (bottle) - $36\\nMontepulciano d'Abruzzo - Medium-bodied with notes of cherry and spice  \\n17. House White Wine (glass) - $8 / (bottle) - $32\\nPinot Grigio - Crisp and refreshing with hints of pear and citrus  \\nOur dishes are prepared with the finest ingredients, including imported Italian products and locally sourced organic produce. Gluten-free and vegetarian options are available upon request. Buon appetito!\\n\\n## Main Courses (Primi Piatti)  \\n4. Spaghetti alla Carbonara - $22\\nAl dente spaghetti tossed in a creamy sauce made with farm-fresh eggs, pecorino Romano cheese, and crispy pancetta. Finished with freshly cracked black pepper and parsley.  \\n5. Risotto ai Funghi Porcini - $26\\nArborio rice slowly cooked to creamy perfection with premium dried porcini mushrooms, white wine, and Parmigiano-Reggiano. Garnished with fresh thyme and truffle oil.  \\n6. Lasagna alla Bolognese - $24\\nLayers of fresh pasta sheets, rich meat ragù made with ground beef and pork, creamy béchamel sauce, and melted mozzarella. Baked until golden and bubbly.\\n\\n## Second Courses (Secondi Piatti)  \\n7. Osso Buco alla Milanese - $32\\nSlow-braised veal shank in white wine and vegetables, topped with gremolata. Served with saffron risotto and roasted vegetables.  \\n8. Branzino al Forno - $30\\nWhole Mediterranean sea bass stuffed with lemon and herbs, oven-roasted and filleted tableside. Served with roasted potatoes and grilled asparagus.  \\n9. Pollo al Marsala - $28\\nTender chicken breast sautéed with mushrooms in a rich Marsala wine sauce. Served with creamy polenta and seasonal vegetables.\\n\\nQuestion: What are the appetizer options available at Bella Vista Italian Restaurant?\\nHelpful Answer: Appetizers (Antipasti) are listed as options 1, 2, and 3 in the menu. They are Bruschetta al Pomodoro, Caprese Salad, and Calamari Fritti.\"}\n",
            "\n",
            "What are the appetizer options available at Bella Vista Italian Restaurant??\n",
            "You can expect to find a variety of appetizers at Bella Vista Italian Restaurant, including but not limited to:\n",
            "\n",
            "Appetizers:\n",
            "\n",
            "- Bruschetta\n",
            "- Fettuccine Alfredo\n",
            "- Risotto\n",
            "- Pollo alla Cacciatora\n",
            "- Bruschetta with prosciutto and arugula\n",
            "- Fried Mozzarella and Tomatoes\n",
            "\n",
            "Bella Vista Italian Restaurant offers a variety of appetizers that are sure to satisfy your cravings for delicious Italian flavors!\n",
            "\n",
            "{'query': 'What vegetarian main course options are available, and can you describe one in detail without missing its price?', 'result': \"Use the following pieces of context to answer the question at the end. If you don't know the answer, just say that you don't know, don't try to make up an answer.\\n\\n## Main Courses (Primi Piatti)  \\n4. Spaghetti alla Carbonara - $22\\nAl dente spaghetti tossed in a creamy sauce made with farm-fresh eggs, pecorino Romano cheese, and crispy pancetta. Finished with freshly cracked black pepper and parsley.  \\n5. Risotto ai Funghi Porcini - $26\\nArborio rice slowly cooked to creamy perfection with premium dried porcini mushrooms, white wine, and Parmigiano-Reggiano. Garnished with fresh thyme and truffle oil.  \\n6. Lasagna alla Bolognese - $24\\nLayers of fresh pasta sheets, rich meat ragù made with ground beef and pork, creamy béchamel sauce, and melted mozzarella. Baked until golden and bubbly.\\n\\n## Second Courses (Secondi Piatti)  \\n7. Osso Buco alla Milanese - $32\\nSlow-braised veal shank in white wine and vegetables, topped with gremolata. Served with saffron risotto and roasted vegetables.  \\n8. Branzino al Forno - $30\\nWhole Mediterranean sea bass stuffed with lemon and herbs, oven-roasted and filleted tableside. Served with roasted potatoes and grilled asparagus.  \\n9. Pollo al Marsala - $28\\nTender chicken breast sautéed with mushrooms in a rich Marsala wine sauce. Served with creamy polenta and seasonal vegetables.\\n\\n## Beverages (Bevande)  \\n13. Espresso - $3.50\\nSingle shot of our premium Italian roast coffee  \\n14. Cappuccino - $5\\nEspresso topped with steamed milk and foam  \\n15. Italian Sodas - $4.50\\nChoice of flavors: Blood Orange, Lemon, or Raspberry  \\n16. House Red Wine (glass) - $9 / (bottle) - $36\\nMontepulciano d'Abruzzo - Medium-bodied with notes of cherry and spice  \\n17. House White Wine (glass) - $8 / (bottle) - $32\\nPinot Grigio - Crisp and refreshing with hints of pear and citrus  \\nOur dishes are prepared with the finest ingredients, including imported Italian products and locally sourced organic produce. Gluten-free and vegetarian options are available upon request. Buon appetito!\\n\\n## Desserts (Dolci)  \\n10. Tiramisu - $12\\nLayers of coffee-soaked ladyfingers and creamy mascarpone cheese, dusted with premium cocoa powder. Served with a shot of espresso on the side.  \\n11. Panna Cotta - $10\\nSilky vanilla bean infused cream custard, topped with a mixed berry compote and fresh mint.  \\n12. Cannoli Siciliani - $9\\nTwo crispy pastry tubes filled with sweet ricotta cream, chocolate chips, and candied orange peel. Dusted with powdered sugar and served with pistachio gelato.\\n\\nQuestion: What vegetarian main course options are available, and can you describe one in detail without missing its price?\\nHelpful Answer:\"}\n",
            "\n",
            "What vegetarian main course options are available, and can you describe one in detail without missing its price??\n",
            "Here are some vegetarian main course options that are available and can be described in detail without missing any details:\n",
            "\n",
            "1. **Vegetable Stir Fry**: This is a popular and easy-to-make dish made with a variety of colorful vegetables, such as bell peppers, carrots, broccoli, and mushrooms, sautéed in a mixture of oils and spices. It is often served with rice, noodles, or as a filling for wraps. The cost of this dish can vary depending on the region,\n",
            "\n",
            "{'query': \"I want to eat pasta, give me the major ingredients used in the pasta along with it's price?\", 'result': \"Use the following pieces of context to answer the question at the end. If you don't know the answer, just say that you don't know, don't try to make up an answer.\\n\\n## Main Courses (Primi Piatti)  \\n4. Spaghetti alla Carbonara - $22\\nAl dente spaghetti tossed in a creamy sauce made with farm-fresh eggs, pecorino Romano cheese, and crispy pancetta. Finished with freshly cracked black pepper and parsley.  \\n5. Risotto ai Funghi Porcini - $26\\nArborio rice slowly cooked to creamy perfection with premium dried porcini mushrooms, white wine, and Parmigiano-Reggiano. Garnished with fresh thyme and truffle oil.  \\n6. Lasagna alla Bolognese - $24\\nLayers of fresh pasta sheets, rich meat ragù made with ground beef and pork, creamy béchamel sauce, and melted mozzarella. Baked until golden and bubbly.\\n\\n## Second Courses (Secondi Piatti)  \\n7. Osso Buco alla Milanese - $32\\nSlow-braised veal shank in white wine and vegetables, topped with gremolata. Served with saffron risotto and roasted vegetables.  \\n8. Branzino al Forno - $30\\nWhole Mediterranean sea bass stuffed with lemon and herbs, oven-roasted and filleted tableside. Served with roasted potatoes and grilled asparagus.  \\n9. Pollo al Marsala - $28\\nTender chicken breast sautéed with mushrooms in a rich Marsala wine sauce. Served with creamy polenta and seasonal vegetables.\\n\\n## Beverages (Bevande)  \\n13. Espresso - $3.50\\nSingle shot of our premium Italian roast coffee  \\n14. Cappuccino - $5\\nEspresso topped with steamed milk and foam  \\n15. Italian Sodas - $4.50\\nChoice of flavors: Blood Orange, Lemon, or Raspberry  \\n16. House Red Wine (glass) - $9 / (bottle) - $36\\nMontepulciano d'Abruzzo - Medium-bodied with notes of cherry and spice  \\n17. House White Wine (glass) - $8 / (bottle) - $32\\nPinot Grigio - Crisp and refreshing with hints of pear and citrus  \\nOur dishes are prepared with the finest ingredients, including imported Italian products and locally sourced organic produce. Gluten-free and vegetarian options are available upon request. Buon appetito!\\n\\n# Bella Vista Italian Restaurant Menu  \\n## Appetizers (Antipasti)  \\n1. Bruschetta al Pomodoro - $12\\nToasted artisanal bread topped with a blend of ripe Roma tomatoes, fresh basil, and extra virgin olive oil. Finished with a drizzle of aged balsamic vinegar.  \\n2. Caprese Salad - $14\\nSlices of creamy buffalo mozzarella layered with vine-ripened tomatoes and fresh basil leaves. Drizzled with extra virgin olive oil and 12-year-aged balsamic glaze.  \\n3. Calamari Fritti - $16\\nTender rings of calamari lightly dusted in seasoned flour and flash-fried to golden perfection. Served with our house-made spicy marinara sauce and lemon wedges.\\n\\nQuestion: I want to eat pasta, give me the major ingredients used in the pasta along with it's price?\\nHelpful Answer: \\nThe major ingredients used in the pasta dishes are:\\n\\n* Spaghetti: $22\\n* Risotto: $26\\n* Lasagna: $24\\n* Osso Buco: $32\\n* Branzino: $30\\n* Pollo: $28\\n* Garlic: $1.50\\n* Onion: $1.50\\n* Tomato sauce (in Risotto): $2\\n* Mushrooms (in Risotto): $2\\n* Parmesan cheese (in\"}\n",
            "\n",
            "I want to eat pasta, give me the major ingredients used in the pasta along with it's price? (approximate)\n",
            "Here are the major ingredients used in pasta, along with their approximate prices in USD (please note that prices may vary depending on location, availability, and seasonality):\n",
            "1. **Spaghetti**: $1.50 - $2.50 per pound (depending on the region and quality)\n",
            "Spaghetti is a long, thin, cylindrical pasta made from wheat flour. It's a classic staple in Italian cuisine.\n",
            "2. **Fettuccine**: $2.00 - $\n",
            "\n"
          ]
        }
      ]
    },
    {
      "cell_type": "code",
      "source": [
        "pc.delete_index(index_name)"
      ],
      "metadata": {
        "id": "FwfP7O_rpC9X"
      },
      "execution_count": 11,
      "outputs": []
    }
  ]
}